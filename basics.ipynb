{
 "cells": [
  {
   "cell_type": "code",
   "execution_count": 1,
   "metadata": {},
   "outputs": [],
   "source": [
    "# ====================== web3 Basics ================================\n",
    "# We show to connect to the ETH network\n",
    "# Overview some basic functions and\n",
    "# build a function to transfer ETH between accounts\n",
    "# ===================================================================\n",
    "\n",
    "\n",
    "from configparser import ConfigParser\n",
    "from web3 import Web3\n",
    "from web3.middleware import geth_poa_middleware"
   ]
  },
  {
   "cell_type": "code",
   "execution_count": 2,
   "metadata": {},
   "outputs": [
    {
     "name": "stdout",
     "output_type": "stream",
     "text": [
      "Account: 0x3bE3Cb88c92eE1FB95a38237012346205ed24450\n"
     ]
    }
   ],
   "source": [
    "# read config.ini\n",
    "config = ConfigParser()\n",
    "config.read('config.ini')\n",
    "\n",
    "# account details section\n",
    "account = config.get('Account_Details', 'account')\n",
    "print('Account:', account)\n",
    "private_key = config.get('Account_Details', 'private_key')\n",
    "\n",
    "# connection details section\n",
    "http_rpc_url = config.get('Connection_Details', 'http_rpc_url')\n",
    "\n",
    "# connect to the Ethereum blockchain\n",
    "w3 = Web3(Web3.HTTPProvider(http_rpc_url))\n",
    "\n",
    "# middleware - Between public web3 and provider (node)\n",
    "# ex. web3.py request\n",
    "# web3.py request -> layer 2 -> layer 1 -> layer 0 -> ethereum node -> \\\n",
    "# ->  layer 0 -> layer 1 -> layer 2 -> response to web3.py request\n",
    "w3.middleware_onion.inject(geth_poa_middleware, layer=0)"
   ]
  },
  {
   "cell_type": "code",
   "execution_count": 39,
   "metadata": {},
   "outputs": [],
   "source": [
    "# basic web3 function\n",
    "def web3_basics():\n",
    "  print('Block number:', w3.eth.block_number , '\\n') # current block number\n",
    "  #print('Block details:', w3.eth.get_block('latest'), '\\n') # \n",
    "  print('Account balance (wei): ', w3.eth.get_balance(account), '\\n')\n",
    "  print('Wei to Ether conversion: ', w3.from_wei(12345678, 'ether'), '\\n')\n",
    "  print('Ether to wei conversion: ', w3.to_wei(1, 'ether'), '\\n' )\n",
    "  print('Account Transaction Count (Nonce): ', w3.eth.get_transaction_count(account))"
   ]
  },
  {
   "cell_type": "code",
   "execution_count": 40,
   "metadata": {},
   "outputs": [
    {
     "name": "stdout",
     "output_type": "stream",
     "text": [
      "Block number: 18890720 \n",
      "\n",
      "Account balance (wei):  0 \n",
      "\n",
      "Wei to Ether conversion:  1.2345678E-11 \n",
      "\n",
      "Ether to wei conversion:  1000000000000000000 \n",
      "\n",
      "Account Transaction Count (Nonce):  0\n"
     ]
    }
   ],
   "source": [
    "web3_basics()"
   ]
  },
  {
   "cell_type": "code",
   "execution_count": 41,
   "metadata": {},
   "outputs": [
    {
     "data": {
      "text/plain": [
       "18890720"
      ]
     },
     "execution_count": 41,
     "metadata": {},
     "output_type": "execute_result"
    }
   ],
   "source": [
    "w3.eth.block_number"
   ]
  },
  {
   "cell_type": "code",
   "execution_count": 33,
   "metadata": {},
   "outputs": [],
   "source": [
    "# transfer ETH between to accounts\n",
    "\n",
    "def transfer_eth():\n",
    "    nonce = w3.eth.get_transaction_count(account)\n",
    "    #create the transaction\n",
    "    transaction = {\n",
    "      'nonce' : nonce,\n",
    "      'to': 'X', # receiver account    \n",
    "      'value': w3.to_wei(0.0001, 'ether'), #eth amount in wei\n",
    "      'gas': 2000000,\n",
    "      'gasPrice': w3.eth.gas_price \n",
    "    }\n",
    "\n",
    "    # sign transaction\n",
    "    signed_trx = w3.eth.account.sign_transaction(transaction, private_key)\n",
    "    # send signed transaction\n",
    "    trx_hash = w3.eth.send_raw_transaction(signed_trx.raw_transaction)\n",
    "    print('ETH transfer transaction hash: ', w3.to_hex(trx_hash))\n",
    "\n",
    "    # other functions\n",
    "    print('Transaction: ', w3.eth.get_transaction(trx_hash))\n",
    "    print('Transaction Receipt: ', w3.eth.get_transaction_receipt(trx_hash))\n",
    "\n",
    "    return 1"
   ]
  },
  {
   "cell_type": "code",
   "execution_count": null,
   "metadata": {},
   "outputs": [],
   "source": []
  }
 ],
 "metadata": {
  "kernelspec": {
   "display_name": "Python 3",
   "language": "python",
   "name": "python3"
  },
  "language_info": {
   "codemirror_mode": {
    "name": "ipython",
    "version": 3
   },
   "file_extension": ".py",
   "mimetype": "text/x-python",
   "name": "python",
   "nbconvert_exporter": "python",
   "pygments_lexer": "ipython3",
   "version": "3.10.12"
  }
 },
 "nbformat": 4,
 "nbformat_minor": 2
}
