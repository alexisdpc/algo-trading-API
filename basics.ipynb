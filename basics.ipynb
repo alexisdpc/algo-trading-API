{
 "cells": [
  {
   "cell_type": "code",
   "execution_count": 1,
   "metadata": {},
   "outputs": [],
   "source": [
    "# ====================== web3 Basics ================================\n",
    "# We show to connect to the ETH network\n",
    "# Overview some basic functions and\n",
    "# build a function to transfer ETH between accounts\n",
    "# ===================================================================\n",
    "\n",
    "\n",
    "from configparser import ConfigParser\n",
    "from web3 import Web3\n",
    "from web3.middleware import geth_poa_middleware"
   ]
  },
  {
   "cell_type": "code",
   "execution_count": 2,
   "metadata": {},
   "outputs": [
    {
     "name": "stdout",
     "output_type": "stream",
     "text": [
      "Account: 0x3bE3Cb88c92eE1FB95a38237012346205ed24450\n"
     ]
    }
   ],
   "source": [
    "# read config.ini\n",
    "config = ConfigParser()\n",
    "config.read('config.ini')\n",
    "\n",
    "# account details section\n",
    "account = config.get('Account_Details', 'account')\n",
    "print('Account:', account)\n",
    "private_key = config.get('Account_Details', 'private_key')\n",
    "\n",
    "# connection details section\n",
    "http_rpc_url = config.get('Connection_Details', 'http_rpc_url')\n",
    "\n",
    "# connect to the Ethereum blockchain\n",
    "w3 = Web3(Web3.HTTPProvider(http_rpc_url))\n",
    "\n",
    "# middleware - Between public web3 and provider (node)\n",
    "# ex. web3.py request\n",
    "# web3.py request -> layer 2 -> layer 1 -> layer 0 -> ethereum node -> \\\n",
    "# ->  layer 0 -> layer 1 -> layer 2 -> response to web3.py request\n",
    "w3.middleware_onion.inject(geth_poa_middleware, layer=0)"
   ]
  },
  {
   "cell_type": "code",
   "execution_count": 36,
   "metadata": {},
   "outputs": [],
   "source": [
    "# basic web3 function\n",
    "def web3_basics():\n",
    "  print('Block number:', w3.eth.block_number , '\\n') # current block number\n",
    "  print('Block details:', w3.eth.get_block('latest'), '\\n') # \n",
    "  print('Account balance (wei): ', w3.eth.get_balance(account), '\\n')\n",
    "  print('Wei to Ether conversion: ', w3.from_wei(12345678, 'ether'), '\\n')\n",
    "  print('Ether to wei conversion: ', w3.to_wei(1, 'ether'), '\\n' )\n",
    "  print('Account Transaction Count (Nonce): ', w3.eth.get_transaction_count(account))"
   ]
  },
  {
   "cell_type": "code",
   "execution_count": 37,
   "metadata": {},
   "outputs": [
    {
     "name": "stdout",
     "output_type": "stream",
     "text": [
      "Block number: 18890693 \n",
      "\n",
      "Block details: AttributeDict({'baseFeePerGas': 18027416003, 'difficulty': 0, 'proofOfAuthorityData': HexBytes('0x6265617665726275696c642e6f7267'), 'gasLimit': 30000000, 'gasUsed': 13597144, 'hash': HexBytes('0x4ee5a05451a7fc993ff10ace92eec65b84485eb1ccba054dfc595f1dca237d44'), 'logsBloom': HexBytes('0x08235643cb00077054320e23c2bad202787b360f7e4e4b60e12d8e42c50d5757e010634ec810d620c31059042310eb9f1ef1ce658e30acb8238a8211112eba6140626cfb6870aa78bf27134bda20eea210467809534e8901a826143598ff50a45ba27a450e551427770cdf96290cafc13ab9c97798f5b458d62ff8ba00df83158d4c025cabc9785c8c67154083a205b5f4d348d1cbcd01b9f02a544ebcbb0f4106c327f4439568a17f2240d8ac12f63b14a98a1c165420543329d50243a82a54399112f3820e6ae0113aed93867c538084f5f60706380abd5aa130738175e7082cfbb3ee4ba030fb1bc47f8799034c81a050f3d2f323b4d7059f89adc2143c4a'), 'miner': '0x95222290DD7278Aa3Ddd389Cc1E1d165CC4BAfe5', 'mixHash': HexBytes('0xcebfb48a14ab9af649b274e0850829ba82f6ee111093fbd745afdb79a39957bb'), 'nonce': HexBytes('0x0000000000000000'), 'number': 18890693, 'parentHash': HexBytes('0x9effa8fac3d84924c588213ec3a7011e0baeaec85d66ef9f822537a06eee3fe2'), 'receiptsRoot': HexBytes('0x0ff872bea690cd8b20a0d6a63ed13597657d3ccc8b089553dcb98b62eb201cc7'), 'sha3Uncles': HexBytes('0x1dcc4de8dec75d7aab85b567b6ccd41ad312451b948a7413f0a142fd40d49347'), 'size': 81189, 'stateRoot': HexBytes('0xfdaef06ab827e41cbdab75dd8b629c80dafcd813f579112d8592a38d0712f32d'), 'timestamp': 1703846327, 'totalDifficulty': 58750003716598352816469, 'transactions': [HexBytes('0xaa2a7c9a5f45df28ac415ff4e10c55c7c5dcad8e5c05ee805db2e14ac0f08f1f'), HexBytes('0x3a94b601f09d179ec997cec4a366587a705ae6bd0eba735d9c68ba9656f6cbd9'), HexBytes('0x35c011ab89f4986fda43b7f12245fed4ac76c4fb0de3832766af380e7a417c11'), HexBytes('0xeabd95875b2a9e81787df19d2adeb9de1a28c9d06abdc5ece20cc315eca6963b'), HexBytes('0xd70054c3a45882b6a02026c48dd7faac8eac5155f0286b6d60d3e0b7cd386335'), HexBytes('0xb8926431fdf451eacf88ddf6cc2cc2ad94bafd484d7740e34c0548c04ce7e15d'), HexBytes('0xf882a179d60257239091d64dbe8e913f7cab3ceab645b92a92e99026dc5035b5'), HexBytes('0xef2ad7f4454ee576b88dc538e367220042fdaee489b9da469fa543f7f7fa484d'), HexBytes('0xa7e27ac0c9a0293b380b0059e7afc9d4b76e07df93bcde161975c39e873f967f'), HexBytes('0x635bd0cf8c89d2880c224aac3912e8015b6e9540362f3a853abbba2442c3bf19'), HexBytes('0x32b165ea697e395001949b5913f12a7cb9d4195a85849087ee2549518a7affcb'), HexBytes('0x80f7a54a61a53c6e4cb78da0011ca0ec0cdaf585c3d8be11a1599a3abfb0a2f4'), HexBytes('0xb3aa187b2801e1123838cdafa8f20422f89f53c86920c649c395b5cb8ea31752'), HexBytes('0x76236be7838adfcfb82cc6cf0112a7e7e0fa882612a56f4969fde55421ef3fbb'), HexBytes('0x86efe8507a53c13e4843599517ad9dd2e104129fd4cf7cbda2a51b3dfaeb657d'), HexBytes('0x949fdd5eb8b9e7a144d8ab624971cd5aa2670dbdd23ef45a176d3497c1536987'), HexBytes('0xc40c5a957c1fca8ec1a758b82bd83b4674195e647c6e3b2ba086970bbdf788eb'), HexBytes('0xe3f9163b97c0aab1ab6660b01338c3558d7fba5cb0d4a8b8c2a51de68a646dd3'), HexBytes('0x1ae25f4a1683d97a742e3cfdeb82cbdd055188da1b9d040cfcce605e07fdfa6e'), HexBytes('0x8e2c510ca5790af12356bbadb192455bb7b3c31222872871df6448cf7f495fd8'), HexBytes('0x69467d5b892f8e16496b026e07b3e670e0885b8809dc4f1d302f847f9ca3cbbe'), HexBytes('0x9f68a4fab2afb9ee3d0043751399adb81cc3a059fbdaf772b7b4d4a62d394b3b'), HexBytes('0x783fd551b87df00901e4364f8aa9cf0099328ea585331fd2967a17dcbc8cf1ad'), HexBytes('0x0dad0058d79b82fceef995cfc85c7491fa5606c291db9238a0cefd276aada845'), HexBytes('0x57a5a091572d52dc488385109a92b08211854963d97c94cda684762afdeaa082'), HexBytes('0x87d62d6f7c9c49c4eb812fd75d28c1d1c64b66e7cfbc826002611e23ac3f8d2e'), HexBytes('0x59986349394e121e9d2f967fc81dcb99bfd11db96877082a0dde914b76db176d'), HexBytes('0x26671e77a2af65a5930dda1cbdc66810657357c84954f085371c67c50376135b'), HexBytes('0x3e4c71fc5765e672e9d33a003840ad891a9d3b6def071f8958bd216fd9006ed9'), HexBytes('0x3622b2a159ca030a6f4393d5fd0e4113e4f947271dc738cc5dda62444b390a91'), HexBytes('0x66f9c9ad02cc6690a6e63f27b19ba46609328fbec3524a7eac33e28d984db110'), HexBytes('0xc742086d6c4511f064759b11182b0c47882284c4819a14fdf50e75c9330ca01d'), HexBytes('0x0f372648bb3b6cf0995667c19d01925c6b453665b6c0dcce222871f3eda8ea73'), HexBytes('0x242b22bdf34d698162c16c44f2c54c53896300f4455526a5c3aab320a6440a64'), HexBytes('0xe35aded237421c6ed62b18c6d94d13626d450a5a47e0d8aa54f08a8fb1c13891'), HexBytes('0x5101f08cbfaefbe35357550e496c38b752f2e2a2ecd759d35dd554bb3d18bbce'), HexBytes('0x8f86816e879a5233a1b72b8861b1c5bbb88f063da1618552782d3d1b41b45033'), HexBytes('0xc23d07d856682f04920dfe85837fff8ba3b8777c29e43a11c8e48cc63bdf7e4f'), HexBytes('0xa27ff142b9615b0a1788bfd4b654f6830fb635b5b30c4e278ef3f597451b8d4a'), HexBytes('0x50a4caca905e6548af8b1d73516ceb82c30bfd1298d00967bce84b00b292043f'), HexBytes('0x9252d6e3d77f91692f08210e7420da1dce4ab906616bec485800d096651c1e07'), HexBytes('0x9bdde056bc14710318eff6b5fbdb4416519c39edb71f1c7e8b513924c1b328d9'), HexBytes('0x6958a4160d0e441013fa3677be85d7456a741dffa4ba2129d935753128d5471e'), HexBytes('0xb32f91468cca206bd02d0c9384a06f3e7a00942d868334ce81db75efbda3d85d'), HexBytes('0x69788eb17d4952174fc935c781634b1fab562510ecc097aa7279a560558ed68f'), HexBytes('0xaed437c57be69c5bd7df4091e7d0945000ffa797a3574c6c25bab1cb8fe3881b'), HexBytes('0x62e8335b066048b1442d6ae76a11ca67474f2b6b349d77d504cea6762bac28fb'), HexBytes('0xffd180d578f3c2689379f27b430b49af6e9b9a9ea053fd71bf5493cfe2bd93b0'), HexBytes('0xc5b70051ee74be9a6fbaa02aa0cad142e1259004f96cf257ff73e1a93f5bd88a'), HexBytes('0xbe4636893f1de5625fc3b75f34084bfa0967e9afad9dc5142300f9b71b9900b5'), HexBytes('0xbe0d9eae108b03d3e5cef2c2ce09b031ed2df2e93c7e5b78ef35427098c4c568'), HexBytes('0xab2a3d53a3b5bea798eef73592e60a9cfa1f1a84af6b5604f487fbab4cb2bc8a'), HexBytes('0x3992d47aa1ca44bb06058bb5168284f49b1013497e17f74d22a8d46d4e5aecc0'), HexBytes('0xc0a80c1e21a02c5c2fd71aa7552caffde69d8ee3950d15bea2cad08e6d27f760'), HexBytes('0x23b8d4365431a732cf8dda9e2f6a40adb199562bc6beeb11d0b280b78a6561cb'), HexBytes('0xefb2031f0ef3196c8245b1c5160c89ef2af02e9c3601cec63025401a03fed5d1'), HexBytes('0xc3fdd6d7cad73be9afe04fb9f04f0023f095336928fe6faf811af8c40490fe5f'), HexBytes('0x7900489812f6af0a2c04a9968d0f4f6f5b35444fa626b840230892f5afe98641'), HexBytes('0x3e8983252f56fefb2438f979893c461d47272559270b638c5dadcff24188f52d'), HexBytes('0x4fc164003b778c970507a179265d845a4f57a768d094893464dcc1867b6c0716'), HexBytes('0xfdf76c4e48065c77a8a3d6e7e72ecd0d6933e915032c8428978ffd6b2185b741'), HexBytes('0x70aef9384bfb8f4082d658122921c9983b944c0151d5189e0702e830cb4dfe5b'), HexBytes('0xc872de3e5b0ff12c97758e87e02f014541d2913f41c865dd170a4c4f458efd59'), HexBytes('0x7cc207514d05501942273bc02bf46bef9468a53bf8e583929fc00b2fd2c23da2'), HexBytes('0x12af05f0565781c80244f8c31b44b1db61a26ed8a311b18e6820ace05fecd437'), HexBytes('0xeaa3ca2a25676fcd95aacf1e8d05f78d88cf38a10d8af03f322819f4234c7997'), HexBytes('0x8d2169133dcd600860092353872bf7f5b232e64a6904ac1bde3fd7c865692e0b'), HexBytes('0x6ae67322808f2b2e05e6efb8d708ce0cf9d85ead09c23f4477ec32cc40475a62'), HexBytes('0x3d9751e803f3c195f4c616148dbc3a879e041dd6deadfd48b45922362d9e71ed'), HexBytes('0xdf6b9369ffe6d21e4638c08365f856b7703e70400d1198d86ea7df1a7d2fb52d'), HexBytes('0x3d06faf09bb4fd173b83f14fc66d3572bc96913541dba455003072679cd19a06'), HexBytes('0xc0a52e5b91eac1ec3f80c7fd479c45fdaba96d35e32872f9b1515134d2e35309'), HexBytes('0x78eb9b36015f1d2b5bffe813687af6df8c68b303f0c9465fae6057bbe18110f6'), HexBytes('0x884b88dd74790edd0cfc44e9315d73b8781ec5477c819e1b1a296ff2cdd134f3'), HexBytes('0x2d80f258f016639236bf0e2141b42251fc550cfc07a27694960459fe548629a7'), HexBytes('0x2ae0a5491ddf792f4c80c46c5ba2600f2aa4526413aa2e87bea6f30b3ed0327e'), HexBytes('0x628c4bcbdebf2df75b8f5d4ece7a56b03893adba207a344b07597bcf4b5bbfcb'), HexBytes('0x338941e255b498869f6267fb0de255680abb3fb902804b076fab11812664a749'), HexBytes('0xbe3864f7447ac8385f02c4a57a6346bd2e15cda66c26e0fa5db6e631eaf3df87'), HexBytes('0x8f5c925ac95188fde73e71802b38a4bcb1104492e4ae47d355b0533b1b1dbcba'), HexBytes('0x7c8d6bfa92a79818310b6f78a94bc75d4476346ef84d7fd27cff9014256a3508'), HexBytes('0x1b43d7d59f98cc42d9ad637e778f139d0fb49cdb433680e59fafd4ad52d07167'), HexBytes('0x56792947571a74ae546b275ff6c7199a87313810ff22652279db4ea58c5c233c'), HexBytes('0x02e0112cceefa8186a31371f489efb6d11614de78ceacff79c7fc2e418a60e17'), HexBytes('0xc229d103f968a365a94398520e517e0d6563577a84b7f00f14d65780d2264c03'), HexBytes('0x265fd5d3d7a8121fdacf06cbc1ba20621207dd9d5bd8aa2dc94bd80e23e1fb8f'), HexBytes('0xfa48ae4655dc08c5159dc0518b34535c63cc1845a0132eb6b4d61af3ebf6ae64'), HexBytes('0x43149980019d4b200f28767cb38916c8dff477d49824842e3450ea14b2142ede'), HexBytes('0xc9d221eda19ab4810ebe4d6f4a988470d256e0dd260ad973d87d4d174bf6b917'), HexBytes('0xe9fb080f3186f5f7d34f8e4b586146d6031da28982b66629f15a6797376c9d3f'), HexBytes('0x060b6d7d00a1375f2fd18f7f6c507ad1f7b2f38f872df0a83d6af116e1ac64d8'), HexBytes('0x4a9606e86dba41fab062ab1889579efd72cb14a9a96315622c9ff9566e13e20c'), HexBytes('0x5bc1311c21fb68317cb82926ae0d11df1d1ada27f4cc507d8fad983d7d11ceb2'), HexBytes('0x6b257d6fdbec4ef01b8f5ccaeb6d9120db86449f56a3bf57e8cf14562d9aefd5'), HexBytes('0x9d427bed026bf54880f6f8f70c0ff4514407b7c66ca8e006a6d1e8e41159dfed'), HexBytes('0xbd3964835062fb3332ffaf9bd4872c69e1dec7230a4fd1a2999554d0e9199a86'), HexBytes('0x50e81f212c94e8ed6b5ca2e372e3913e747587d9dd2e10afa2c0b21c67aab7d5'), HexBytes('0x036e3c3964cbc5f7e9e37de72c27865585c3d3251049e7f4125aa6aafc71232b'), HexBytes('0xdfb89c7c9e76f783b030221a01f23ac970230b36f7329025bac122c6ba57cadd'), HexBytes('0xa69d89fa07e5ec004a5f0fa9f16bc20ca021dd2c412ab56d70ccaa50d2fd533a'), HexBytes('0xf9d91cef89a6da4fb1b8bf9714563a1e103fff9f794cb4bf39cad5abcb6f6b76'), HexBytes('0x78b879ec01659633a0b91a832fc9cc0eb5fc7212536a30c2a2e1b369943c0615'), HexBytes('0xc76425f53493a49fe4b68425b5c320c32fffa03b49f8abf49bcc4aec3b0753c8'), HexBytes('0xb10a54346a8264329892e7ba7146d75908331310a7117a39b9709ccd199fcfe0'), HexBytes('0xf76fcaebc7feebe61ae2cff7bec6f8b22e22ba1d4508a49317c471e492bf89b8'), HexBytes('0xa189f69ff991c0d03cc4f806d84d24803a7ce250146e3edf47ec5de743e75664')], 'transactionsRoot': HexBytes('0xd30d9ee71a1d9cdd7a6f20effdb2ebfbc6412cba9d8f6ce03eb58f044c59a522'), 'uncles': [], 'withdrawals': [AttributeDict({'address': '0xB9D7934878B5FB9610B3fE8A5e441e8fad7E293f', 'amount': 17405542, 'index': 29691718, 'validatorIndex': 907455}), AttributeDict({'address': '0xB9D7934878B5FB9610B3fE8A5e441e8fad7E293f', 'amount': 17413700, 'index': 29691719, 'validatorIndex': 907456}), AttributeDict({'address': '0xB9D7934878B5FB9610B3fE8A5e441e8fad7E293f', 'amount': 17421530, 'index': 29691720, 'validatorIndex': 907457}), AttributeDict({'address': '0xB9D7934878B5FB9610B3fE8A5e441e8fad7E293f', 'amount': 17440505, 'index': 29691721, 'validatorIndex': 907458}), AttributeDict({'address': '0xB9D7934878B5FB9610B3fE8A5e441e8fad7E293f', 'amount': 17412263, 'index': 29691722, 'validatorIndex': 907459}), AttributeDict({'address': '0xB9D7934878B5FB9610B3fE8A5e441e8fad7E293f', 'amount': 17437177, 'index': 29691723, 'validatorIndex': 907460}), AttributeDict({'address': '0xB9D7934878B5FB9610B3fE8A5e441e8fad7E293f', 'amount': 17400841, 'index': 29691724, 'validatorIndex': 907461}), AttributeDict({'address': '0xB9D7934878B5FB9610B3fE8A5e441e8fad7E293f', 'amount': 17461915, 'index': 29691725, 'validatorIndex': 907462}), AttributeDict({'address': '0xB9D7934878B5FB9610B3fE8A5e441e8fad7E293f', 'amount': 179168406, 'index': 29691726, 'validatorIndex': 907463}), AttributeDict({'address': '0xB9D7934878B5FB9610B3fE8A5e441e8fad7E293f', 'amount': 17392313, 'index': 29691727, 'validatorIndex': 907464}), AttributeDict({'address': '0xB9D7934878B5FB9610B3fE8A5e441e8fad7E293f', 'amount': 17436841, 'index': 29691728, 'validatorIndex': 907465}), AttributeDict({'address': '0xB9D7934878B5FB9610B3fE8A5e441e8fad7E293f', 'amount': 17424823, 'index': 29691729, 'validatorIndex': 907473}), AttributeDict({'address': '0xB9D7934878B5FB9610B3fE8A5e441e8fad7E293f', 'amount': 17456882, 'index': 29691730, 'validatorIndex': 907474}), AttributeDict({'address': '0xB9D7934878B5FB9610B3fE8A5e441e8fad7E293f', 'amount': 17417617, 'index': 29691731, 'validatorIndex': 907475}), AttributeDict({'address': '0xB9D7934878B5FB9610B3fE8A5e441e8fad7E293f', 'amount': 17368654, 'index': 29691732, 'validatorIndex': 907476}), AttributeDict({'address': '0xB9D7934878B5FB9610B3fE8A5e441e8fad7E293f', 'amount': 17403264, 'index': 29691733, 'validatorIndex': 907477})], 'withdrawalsRoot': HexBytes('0x16bf5c009f18d34ba912ca05ff482626c486ac9e08821523f0667f6c6b898a47')}) \n",
      "\n",
      "Account balance (wei):  0 \n",
      "\n",
      "Wei to Ether conversion:  1.2345678E-11 \n",
      "\n",
      "Ether to wei conversion:  1000000000000000000 \n",
      "\n",
      "Account Transaction Count (Nonce):  0\n"
     ]
    }
   ],
   "source": [
    "web3_basics()"
   ]
  },
  {
   "cell_type": "code",
   "execution_count": 5,
   "metadata": {},
   "outputs": [
    {
     "data": {
      "text/plain": [
       "18890577"
      ]
     },
     "execution_count": 5,
     "metadata": {},
     "output_type": "execute_result"
    }
   ],
   "source": [
    "w3.eth.block_number"
   ]
  },
  {
   "cell_type": "code",
   "execution_count": 33,
   "metadata": {},
   "outputs": [],
   "source": [
    "# transfer ETH between to accounts\n",
    "\n",
    "def transfer_eth():\n",
    "    nonce = w3.eth.get_transaction_count(account)\n",
    "    #create the transaction\n",
    "    transaction = {\n",
    "      'nonce' : nonce,\n",
    "      'to': 'X', # receiver account    \n",
    "      'value': w3.to_wei(0.0001, 'ether'), #eth amount in wei\n",
    "      'gas': 2000000,\n",
    "      'gasPrice': w3.eth.gas_price \n",
    "    }\n",
    "\n",
    "    # sign transaction\n",
    "    signed_trx = w3.eth.account.sign_transaction(transaction, private_key)\n",
    "    # send signed transaction\n",
    "    trx_hash = w3.eth.send_raw_transaction(signed_trx.raw_transaction)\n",
    "    print('ETH transfer transaction hash: ', w3.to_hex(trx_hash))\n",
    "\n",
    "    # other functions\n",
    "    print('Transaction: ', w3.eth.get_transaction(trx_hash))\n",
    "    print('Transaction Receipt: ', w3.eth.get_transaction_receipt(trx_hash))\n",
    "\n",
    "    return 1"
   ]
  },
  {
   "cell_type": "code",
   "execution_count": null,
   "metadata": {},
   "outputs": [],
   "source": []
  }
 ],
 "metadata": {
  "kernelspec": {
   "display_name": "Python 3",
   "language": "python",
   "name": "python3"
  },
  "language_info": {
   "codemirror_mode": {
    "name": "ipython",
    "version": 3
   },
   "file_extension": ".py",
   "mimetype": "text/x-python",
   "name": "python",
   "nbconvert_exporter": "python",
   "pygments_lexer": "ipython3",
   "version": "3.10.12"
  }
 },
 "nbformat": 4,
 "nbformat_minor": 2
}
