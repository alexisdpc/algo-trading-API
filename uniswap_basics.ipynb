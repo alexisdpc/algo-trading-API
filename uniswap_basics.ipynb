{
 "cells": [
  {
   "cell_type": "code",
   "execution_count": 24,
   "metadata": {},
   "outputs": [],
   "source": [
    "from uniswap import Uniswap\n",
    "\n",
    "address = None         \n",
    "private_key = None \n",
    "version = 2 # specify which version of Uniswap to use\n",
    "provider = ...\n",
    "uniswap = Uniswap(address=address, private_key=private_key, version=version, provider=provider)\n",
    "\n",
    "# Token addresses\n",
    "eth = \"0x0000000000000000000000000000000000000000\"\n",
    "bat = \"0x0D8775F648430679A709E98d2b0Cb6250d2887EF\"\n",
    "dai = \"0x6B175474E89094C44Da98b954EedeAC495271d0F\"\n"
   ]
  },
  {
   "cell_type": "code",
   "execution_count": 20,
   "metadata": {},
   "outputs": [
    {
     "name": "stdout",
     "output_type": "stream",
     "text": [
      "1 ETH =  2364.705951482096 DAI\n"
     ]
    }
   ],
   "source": [
    "# Returns the amount of DAI you get for 1 ETH (10^18 wei)\n",
    "eth_val = uniswap.get_price_input(eth, dai, 10**18)\n",
    "eth_to_usd = eth_val*1e-18\n",
    "print('1 ETH = ', eth_to_usd, 'DAI')\n"
   ]
  },
  {
   "cell_type": "code",
   "execution_count": 19,
   "metadata": {},
   "outputs": [
    {
     "name": "stdout",
     "output_type": "stream",
     "text": [
      " 1 DAI =  0.000422730402407764 ETH\n"
     ]
    }
   ],
   "source": [
    "# Returns the amount of ETH you need to pay (in wei) to get 1 DAI\n",
    "usd_val = uniswap.get_price_output(eth, dai, 10**18)\n",
    "usd_to_eth = usd_val*1e-18\n",
    "print(' 1 DAI = ' , usd_to_eth, 'ETH')"
   ]
  },
  {
   "cell_type": "code",
   "execution_count": 25,
   "metadata": {},
   "outputs": [
    {
     "data": {
      "text/plain": [
       "' ===================== Exampels of trades:  =============================\\n\\nuniswap.make_trade(\\n            token0[\\'address\\'],\\n            token1[\\'address\\'],\\n            amount,\\n            recipient=None,\\n            fee=fee,\\n            slippage=None,\\n            fee_on_transfer=False # Uniswap V3 doesn\\'t support fee_on_transfer\\n        )\\n\\nuniswap.make_trade(eth, bat, 1*10**18)  # sell 1 ETH for BAT\\nuniswap.make_trade(bat, eth, 1*10**18)  # sell 1 BAT for ETH\\nuniswap.make_trade(bat, dai, 1*10**18)  # sell 1 BAT for DAI\\nuniswap.make_trade(eth, bat, 1*10**18, \"0x123...\")  # sell 1 ETH for BAT, and send the BAT to the provided address\\nuniswap.make_trade(dai, usdc, 1*10**18, fee=500)    # sell 1 DAI for USDC using the 0.05% fee pool (v3 only)\\n\\n\\n'"
      ]
     },
     "execution_count": 25,
     "metadata": {},
     "output_type": "execute_result"
    }
   ],
   "source": [
    "''' ===================== Exampels of trades:  =============================\n",
    "\n",
    "uniswap.make_trade(\n",
    "            token0['address'],\n",
    "            token1['address'],\n",
    "            amount,\n",
    "            recipient=None,\n",
    "            fee=fee,\n",
    "            slippage=None,\n",
    "            fee_on_transfer=False # Uniswap V3 doesn't support fee_on_transfer\n",
    "        )\n",
    "\n",
    "uniswap.make_trade(eth, bat, 1*10**18)  # sell 1 ETH for BAT\n",
    "uniswap.make_trade(bat, eth, 1*10**18)  # sell 1 BAT for ETH\n",
    "uniswap.make_trade(bat, dai, 1*10**18)  # sell 1 BAT for DAI\n",
    "uniswap.make_trade(eth, bat, 1*10**18, \"0x123...\")  # sell 1 ETH for BAT, and send the BAT to the provided address\n",
    "uniswap.make_trade(dai, usdc, 1*10**18, fee=500)    # sell 1 DAI for USDC using the 0.05% fee pool (v3 only)\n",
    "\n",
    "\n",
    "'''"
   ]
  }
 ],
 "metadata": {
  "kernelspec": {
   "display_name": "Python 3",
   "language": "python",
   "name": "python3"
  },
  "language_info": {
   "codemirror_mode": {
    "name": "ipython",
    "version": 3
   },
   "file_extension": ".py",
   "mimetype": "text/x-python",
   "name": "python",
   "nbconvert_exporter": "python",
   "pygments_lexer": "ipython3",
   "version": "3.10.12"
  }
 },
 "nbformat": 4,
 "nbformat_minor": 2
}
